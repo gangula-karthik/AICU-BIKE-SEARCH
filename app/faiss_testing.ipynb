{
 "cells": [
  {
   "cell_type": "code",
   "execution_count": 2,
   "metadata": {},
   "outputs": [],
   "source": [
    "import faiss\n",
    "import numpy as np"
   ]
  },
  {
   "cell_type": "code",
   "execution_count": 28,
   "metadata": {},
   "outputs": [
    {
     "name": "stdout",
     "output_type": "stream",
     "text": [
      "[[10.154568 10.496177 11.547545 11.645204 12.695274 13.161116 13.558785\n",
      "  13.83332  13.865136 13.941207]]\n",
      "[[ 46 889 159 489 224  48  10 806 486 604]]\n"
     ]
    },
    {
     "name": "stderr",
     "output_type": "stream",
     "text": [
      "WARNING clustering 900 points to 100 centroids: please provide at least 3900 training points\n",
      "WARNING clustering 900 points to 256 centroids: please provide at least 9984 training points\n",
      "WARNING clustering 900 points to 256 centroids: please provide at least 9984 training points\n",
      "WARNING clustering 900 points to 256 centroids: please provide at least 9984 training points\n",
      "WARNING clustering 900 points to 256 centroids: please provide at least 9984 training points\n",
      "WARNING clustering 900 points to 256 centroids: please provide at least 9984 training points\n"
     ]
    }
   ],
   "source": [
    "import faiss\n",
    "import numpy as np\n",
    "\n",
    "# Generate a dataset of 1000 points in 100 dimensions\n",
    "X = np.random.rand(900, 100).astype('float32')\n",
    "\n",
    "# Create an index for the dataset\n",
    "nlist = 100\n",
    "quantizer = faiss.IndexFlatL2(100)  # this remains the same\n",
    "index = faiss.IndexIVFPQ(quantizer, X.shape[1], nlist, 5, 8)  # corrected here\n",
    "\n",
    "# Train the index\n",
    "index.train(X)\n",
    "\n",
    "# Add the dataset to the index\n",
    "index.add(X)\n",
    "\n",
    "# Perform an approximate nearest neighbor search for a query vector\n",
    "query = np.random.rand(1, 100).astype('float32')\n",
    "D, I = index.search(query, k=10)\n",
    "\n",
    "# Print the distances and indices of the nearest neighbors\n",
    "print(D)\n",
    "print(I)\n"
   ]
  },
  {
   "cell_type": "code",
   "execution_count": null,
   "metadata": {},
   "outputs": [],
   "source": []
  }
 ],
 "metadata": {
  "kernelspec": {
   "display_name": "venv",
   "language": "python",
   "name": "python3"
  },
  "language_info": {
   "codemirror_mode": {
    "name": "ipython",
    "version": 3
   },
   "file_extension": ".py",
   "mimetype": "text/x-python",
   "name": "python",
   "nbconvert_exporter": "python",
   "pygments_lexer": "ipython3",
   "version": "3.10.13"
  }
 },
 "nbformat": 4,
 "nbformat_minor": 2
}
