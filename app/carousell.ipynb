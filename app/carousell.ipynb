{
 "cells": [
  {
   "attachments": {},
   "cell_type": "markdown",
   "metadata": {},
   "source": [
    "# testing scrolling"
   ]
  },
  {
   "cell_type": "code",
   "execution_count": 3,
   "metadata": {},
   "outputs": [],
   "source": [
    "# loading the packages\n",
    "\n",
    "import requests\n",
    "import pandas as pd\n",
    "import time\n",
    "\n",
    "# !pip install webdriver-manager\n",
    "from webdriver_manager.chrome import ChromeDriverManager\n",
    "\n",
    "# using for selenium 4\n",
    "from selenium import webdriver\n",
    "from selenium.webdriver.chrome.service import Service as ChromeService\n",
    "from webdriver_manager.chrome import ChromeDriverManager\n",
    "\n",
    "\n",
    "from bs4 import BeautifulSoup\n",
    "from selenium import webdriver\n",
    "from selenium.webdriver.common.keys import Keys\n",
    "from selenium.webdriver.chrome.service import Service\n",
    "from selenium.webdriver.common.by import By"
   ]
  },
  {
   "cell_type": "code",
   "execution_count": 18,
   "metadata": {},
   "outputs": [],
   "source": [
    "service = ChromeService(executable_path=ChromeDriverManager().install())\n",
    "driver = webdriver.Chrome(service=service)\n",
    "\n",
    "productList = []\n",
    "\n",
    "\n",
    "def productInfoGetter(driver, productList):\n",
    "    service = ChromeService(executable_path=ChromeDriverManager().install())\n",
    "    driver = webdriver.Chrome(service=service)\n",
    "    driver.get(\"https://www.carousell.sg/categories/sports-equipment-10/bicycles-parts-1900/bicycles-247?addRecent=false&canChangeKeyword=false&includeSuggestions=false&sc=0a0208301a0408bbe172220c0a0862696379636c657378012a110a095f64656c69766572793a02080078012a160a0b636f6c6c656374696f6e7312050a0332343778013204080378013a02180742060801100118004a08200128014001480150005a020801&search=bicycles&searchId=6Oyxkt&sort_by=3&tab=marketplace\")\n",
    "\n",
    "    scroll_pause_time = 1 # You can set your own pause time. My laptop is a bit slow so I use 1 sec\n",
    "    screen_height = driver.execute_script(\"return window.screen.height;\")   # get the screen height of the web\n",
    "    i = 1\n",
    "\n",
    "    while True:\n",
    "        # scroll one screen height each time\n",
    "        driver.execute_script(\"window.scrollTo(0, {screen_height}*{i});\".format(screen_height=screen_height, i=i))  \n",
    "        i += 1\n",
    "        print(\"window.scrollTo(0, {screen_height}*{i});\".format(screen_height=screen_height, i=i*5))\n",
    "        time.sleep(scroll_pause_time)\n",
    "        print(scroll_pause_time)\n",
    "        # update scroll height each time after scrolled, as the scroll height can change after we scrolled the page\n",
    "        scroll_height = driver.execute_script(\"return document.body.scrollHeight;\")  \n",
    "        # Break the loop when the height we need to scroll to is larger than the total scroll height\n",
    "        if i < 6:\n",
    "            if i == 1:\n",
    "                print(\"read more button clicked for the\", i, \"time\")\n",
    "                read_more = driver.find_element(By.CSS_SELECTOR, \"div.D_am > div > button\").click()\n",
    "            time.sleep(3)\n",
    "        else:\n",
    "            break\n",
    "        if (screen_height) * i > scroll_height:\n",
    "            break\n",
    "    time.sleep(10)\n",
    "\n",
    "    products = driver.find_elements(By.CSS_SELECTOR, \"div.D_wZ.M_rA\")\n",
    "    for product in products: \n",
    "        seller = product.find_element(By.CSS_SELECTOR, \"div.D_xj.M_rK > p\").text\n",
    "        uploaded = product.find_element(By.CSS_SELECTOR, \"div.D_xr.M_rS > p\").text\n",
    "        name = product.find_element(By.CSS_SELECTOR, \"div.D_xa.M_rB > a:nth-child(2) > p.D_rk.M_mg.D_qV.M_mc.D_rl.M_mh.D_rp.M_ml.D_rs.M_mo.D_rv.M_mr.D_rx.M_mt.D_rt.M_mp.D_rA\").text\n",
    "        price = product.find_element(By.CSS_SELECTOR, \"a:nth-child(2) > div.D_xu.M_rV > p\").text\n",
    "        condition = product.find_element(By.CSS_SELECTOR, \"a:nth-child(2) > p:nth-child(4)\").text\n",
    "        try:\n",
    "            protection = product.find_element(By.CSS_SELECTOR, \"div.D_xk.M_rL > div.D_xc.M_rE > p\").text\n",
    "        except: \n",
    "            protection = \"Not Enabled\"\n",
    "        image = product.find_element(By.CSS_SELECTOR, \"div.D_xk.M_rL > div > img\").get_attribute(\"src\")\n",
    "        data = {\n",
    "            \"seller\": seller,\n",
    "            \"uploaded\": uploaded,\n",
    "            \"name\": name,\n",
    "            \"price\": price,\n",
    "            \"condition\": condition,\n",
    "            \"carousell protection\": protection,\n",
    "            \"image\": image\n",
    "        }\n",
    "        print(data)\n",
    "\n",
    "        productList.append(data)\n",
    "\n",
    "    driver.quit()\n",
    "    \n",
    "    return productList"
   ]
  },
  {
   "cell_type": "code",
   "execution_count": 19,
   "metadata": {},
   "outputs": [
    {
     "name": "stdout",
     "output_type": "stream",
     "text": [
      "window.scrollTo(0, 878*10);\n",
      "1\n",
      "window.scrollTo(0, 878*15);\n",
      "1\n",
      "window.scrollTo(0, 878*20);\n",
      "1\n",
      "window.scrollTo(0, 878*25);\n",
      "1\n",
      "window.scrollTo(0, 878*30);\n",
      "1\n"
     ]
    }
   ],
   "source": [
    "df = productInfoGetter(driver, productList)\n",
    "df = pd.DataFrame(list(df))"
   ]
  },
  {
   "cell_type": "code",
   "execution_count": 16,
   "metadata": {},
   "outputs": [
    {
     "data": {
      "text/plain": [
       "(0, 0)"
      ]
     },
     "execution_count": 16,
     "metadata": {},
     "output_type": "execute_result"
    }
   ],
   "source": [
    "df.shape"
   ]
  },
  {
   "cell_type": "code",
   "execution_count": 13,
   "metadata": {},
   "outputs": [
    {
     "data": {
      "text/html": [
       "<div>\n",
       "<style scoped>\n",
       "    .dataframe tbody tr th:only-of-type {\n",
       "        vertical-align: middle;\n",
       "    }\n",
       "\n",
       "    .dataframe tbody tr th {\n",
       "        vertical-align: top;\n",
       "    }\n",
       "\n",
       "    .dataframe thead th {\n",
       "        text-align: right;\n",
       "    }\n",
       "</style>\n",
       "<table border=\"1\" class=\"dataframe\">\n",
       "  <thead>\n",
       "    <tr style=\"text-align: right;\">\n",
       "      <th></th>\n",
       "    </tr>\n",
       "  </thead>\n",
       "  <tbody>\n",
       "  </tbody>\n",
       "</table>\n",
       "</div>"
      ],
      "text/plain": [
       "Empty DataFrame\n",
       "Columns: []\n",
       "Index: []"
      ]
     },
     "execution_count": 13,
     "metadata": {},
     "output_type": "execute_result"
    }
   ],
   "source": [
    "df"
   ]
  },
  {
   "cell_type": "code",
   "execution_count": 35,
   "metadata": {},
   "outputs": [],
   "source": [
    "df.to_csv(\"carousell.csv\")"
   ]
  },
  {
   "cell_type": "code",
   "execution_count": 24,
   "metadata": {},
   "outputs": [
    {
     "name": "stdout",
     "output_type": "stream",
     "text": [
      "webpage loaded\n",
      "products loaded []\n"
     ]
    }
   ],
   "source": [
    "driver = webdriver.Chrome(service=service)\n",
    "driver.get(\"https://www.carousell.sg/categories/sports-equipment-10/bicycles-parts-1900/bicycles-247?addRecent=false&canChangeKeyword=false&includeSuggestions=false&sc=0a0208301a0408bbe172220c0a0862696379636c657378012a110a095f64656c69766572793a02080078012a160a0b636f6c6c656374696f6e7312050a0332343778013204080378013a02180742060801100118004a08200128014001480150005a020801&search=bicycles&searchId=6Oyxkt&sort_by=3&tab=marketplace\")\n",
    "\n",
    "\n",
    "print('webpage loaded')\n",
    "\n",
    "\n",
    "time.sleep(5)\n",
    "products = driver.find_elements(By.CSS_SELECTOR, \"div.D_wZ.M_rA\")\n",
    "print(\"products loaded\", (products))\n",
    "time.sleep(5)\n",
    "for product in products: \n",
    "    print(\"product\")\n",
    "    seller = product.find_element(By.CSS_SELECTOR, \"div.D_xj.M_rK > p\").text\n",
    "    uploaded = product.find_element(By.CSS_SELECTOR, \"div.D_xr.M_rS > p\").text\n",
    "    name = product.find_element(By.CSS_SELECTOR, \"div.D_xa.M_rB > a:nth-child(2) > p.D_rk.M_mg.D_qV.M_mc.D_rl.M_mh.D_rp.M_ml.D_rs.M_mo.D_rv.M_mr.D_rx.M_mt.D_rt.M_mp.D_rA\").text\n",
    "    price = product.find_element(By.CSS_SELECTOR, \"a:nth-child(2) > div.D_xu.M_rV > p\").text\n",
    "    condition = product.find_element(By.CSS_SELECTOR, \"a:nth-child(2) > p:nth-child(4)\").text\n",
    "    try:\n",
    "        protection = product.find_element(By.CSS_SELECTOR, \"div.D_xk.M_rL > div.D_xc.M_rE > p\").text\n",
    "    except: \n",
    "        protection = \"Not Enabled\"\n",
    "    image = product.find_element(By.CSS_SELECTOR, \"div.D_xk.M_rL > div > img\").get_attribute(\"src\")\n",
    "    data = {\n",
    "        \"seller\": seller,\n",
    "        \"uploaded\": uploaded,\n",
    "        \"name\": name,\n",
    "        \"price\": price,\n",
    "        \"condition\": condition,\n",
    "        \"carousell protection\": protection,\n",
    "        \"image\": image\n",
    "    }\n",
    "    print(data)\n",
    "\n",
    "    productList.append(data)"
   ]
  },
  {
   "cell_type": "code",
   "execution_count": null,
   "metadata": {},
   "outputs": [],
   "source": []
  }
 ],
 "metadata": {
  "kernelspec": {
   "display_name": "data_wrangling_mod_env",
   "language": "python",
   "name": "python3"
  },
  "language_info": {
   "codemirror_mode": {
    "name": "ipython",
    "version": 3
   },
   "file_extension": ".py",
   "mimetype": "text/x-python",
   "name": "python",
   "nbconvert_exporter": "python",
   "pygments_lexer": "ipython3",
   "version": "3.10.13"
  },
  "orig_nbformat": 4
 },
 "nbformat": 4,
 "nbformat_minor": 2
}
